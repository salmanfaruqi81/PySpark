{
 "cells": [
  {
   "cell_type": "code",
   "execution_count": 34,
   "id": "a3c743a8",
   "metadata": {},
   "outputs": [],
   "source": [
    "from __future__ import print_function\n",
    "import findspark\n",
    "findspark.init()\n",
    "\n",
    "import pyspark\n",
    "\n",
    "\n",
    "from pyspark.sql import SparkSession\n",
    "from pyspark.ml.feature import VectorAssembler\n",
    "from pyspark.ml.regression import LinearRegression\n",
    "from pyspark.sql.functions import col, count, isnan, when"
   ]
  },
  {
   "cell_type": "code",
   "execution_count": 35,
   "id": "7b8e10ba",
   "metadata": {},
   "outputs": [],
   "source": [
    "if __name__ == \"__main__\":\n",
    "    spark = SparkSession\\\n",
    "    .builder\\\n",
    "    .appName('LinearRegressionWithSpark')\\\n",
    "    .getOrCreate()"
   ]
  },
  {
   "cell_type": "code",
   "execution_count": 36,
   "id": "f4a08c61",
   "metadata": {},
   "outputs": [
    {
     "data": {
      "text/html": [
       "\n",
       "            <div>\n",
       "                <p><b>SparkSession - in-memory</b></p>\n",
       "                \n",
       "        <div>\n",
       "            <p><b>SparkContext</b></p>\n",
       "\n",
       "            <p><a href=\"http://host.docker.internal:4040\">Spark UI</a></p>\n",
       "\n",
       "            <dl>\n",
       "              <dt>Version</dt>\n",
       "                <dd><code>v3.2.1</code></dd>\n",
       "              <dt>Master</dt>\n",
       "                <dd><code>local[*]</code></dd>\n",
       "              <dt>AppName</dt>\n",
       "                <dd><code>LinearRegressionWithSpark</code></dd>\n",
       "            </dl>\n",
       "        </div>\n",
       "        \n",
       "            </div>\n",
       "        "
      ],
      "text/plain": [
       "<pyspark.sql.session.SparkSession at 0x1c7e10d52b0>"
      ]
     },
     "execution_count": 36,
     "metadata": {},
     "output_type": "execute_result"
    }
   ],
   "source": [
    "spark"
   ]
  },
  {
   "cell_type": "code",
   "execution_count": 37,
   "id": "c408085a",
   "metadata": {},
   "outputs": [],
   "source": [
    "dataset = spark.read.csv('Admission_Prediction.csv', header=True)"
   ]
  },
  {
   "cell_type": "code",
   "execution_count": 38,
   "id": "01a8dac5",
   "metadata": {},
   "outputs": [
    {
     "data": {
      "text/plain": [
       "DataFrame[Serial No.: string, GRE Score: string, TOEFL Score: string, University Rating: string, SOP: string, LOR : string, CGPA: string, Research: string, Chance of Admit : string]"
      ]
     },
     "execution_count": 38,
     "metadata": {},
     "output_type": "execute_result"
    }
   ],
   "source": [
    "dataset"
   ]
  },
  {
   "cell_type": "code",
   "execution_count": 39,
   "id": "37fccb03",
   "metadata": {},
   "outputs": [
    {
     "name": "stdout",
     "output_type": "stream",
     "text": [
      "+----------+---------+-----------+-----------------+---+----+----+--------+----------------+\n",
      "|Serial No.|GRE Score|TOEFL Score|University Rating|SOP|LOR |CGPA|Research|Chance of Admit |\n",
      "+----------+---------+-----------+-----------------+---+----+----+--------+----------------+\n",
      "|         1|      337|        118|                4|4.5| 4.5|9.65|       1|            0.92|\n",
      "|         2|      324|        107|                4|  4| 4.5|8.87|       1|            0.76|\n",
      "|         3|      316|        104|                3|  3| 3.5|   8|       1|            0.72|\n",
      "|         4|      322|        110|                3|3.5| 2.5|8.67|       1|             0.8|\n",
      "|         5|      314|        103|                2|  2|   3|8.21|       0|            0.65|\n",
      "+----------+---------+-----------+-----------------+---+----+----+--------+----------------+\n",
      "only showing top 5 rows\n",
      "\n"
     ]
    }
   ],
   "source": [
    "dataset.show(5)"
   ]
  },
  {
   "cell_type": "code",
   "execution_count": 40,
   "id": "349ed959",
   "metadata": {},
   "outputs": [
    {
     "name": "stdout",
     "output_type": "stream",
     "text": [
      "root\n",
      " |-- Serial No.: string (nullable = true)\n",
      " |-- GRE Score: string (nullable = true)\n",
      " |-- TOEFL Score: string (nullable = true)\n",
      " |-- University Rating: string (nullable = true)\n",
      " |-- SOP: string (nullable = true)\n",
      " |-- LOR : string (nullable = true)\n",
      " |-- CGPA: string (nullable = true)\n",
      " |-- Research: string (nullable = true)\n",
      " |-- Chance of Admit : string (nullable = true)\n",
      "\n"
     ]
    }
   ],
   "source": [
    "dataset.printSchema()"
   ]
  },
  {
   "cell_type": "code",
   "execution_count": 41,
   "id": "12d559c3",
   "metadata": {},
   "outputs": [],
   "source": [
    "dataset = dataset.drop(\"Serial No.\")   "
   ]
  },
  {
   "cell_type": "code",
   "execution_count": 42,
   "id": "238f500a",
   "metadata": {},
   "outputs": [
    {
     "name": "stdout",
     "output_type": "stream",
     "text": [
      "+---------+-----------+-----------------+---+----+----+--------+----------------+\n",
      "|GRE Score|TOEFL Score|University Rating|SOP|LOR |CGPA|Research|Chance of Admit |\n",
      "+---------+-----------+-----------------+---+----+----+--------+----------------+\n",
      "|      337|        118|                4|4.5| 4.5|9.65|       1|            0.92|\n",
      "|      324|        107|                4|  4| 4.5|8.87|       1|            0.76|\n",
      "|      316|        104|                3|  3| 3.5|   8|       1|            0.72|\n",
      "|      322|        110|                3|3.5| 2.5|8.67|       1|             0.8|\n",
      "|      314|        103|                2|  2|   3|8.21|       0|            0.65|\n",
      "|      330|        115|                5|4.5|   3|9.34|       1|             0.9|\n",
      "|      321|        109|                3|  3|   4| 8.2|       1|            0.75|\n",
      "|      308|        101|                2|  3|   4| 7.9|       0|            0.68|\n",
      "|      302|        102|                1|  2| 1.5|   8|       0|             0.5|\n",
      "|      323|        108|                3|3.5|   3| 8.6|       0|            0.45|\n",
      "|      325|        106|                3|3.5|   4| 8.4|       1|            0.52|\n",
      "|      327|        111|                4|  4| 4.5|   9|       1|            0.84|\n",
      "|      328|        112|                4|  4| 4.5| 9.1|       1|            0.78|\n",
      "|      307|        109|                3|  4|   3|   8|       1|            0.62|\n",
      "|      311|        104|                3|3.5|   2| 8.2|       1|            0.61|\n",
      "|      314|        105|                3|3.5| 2.5| 8.3|       0|            0.54|\n",
      "|      317|        107|                3|  4|   3| 8.7|       0|            0.66|\n",
      "|      319|        106|                3|  4|   3|   8|       1|            0.65|\n",
      "|      318|        110|                3|  4|   3| 8.8|       0|            0.63|\n",
      "|      303|        102|                3|3.5|   3| 8.5|       0|            0.62|\n",
      "+---------+-----------+-----------------+---+----+----+--------+----------------+\n",
      "only showing top 20 rows\n",
      "\n"
     ]
    }
   ],
   "source": [
    "dataset.show()"
   ]
  },
  {
   "cell_type": "code",
   "execution_count": 43,
   "id": "fc636bab",
   "metadata": {},
   "outputs": [
    {
     "data": {
      "text/plain": [
       "['GRE Score',\n",
       " 'TOEFL Score',\n",
       " 'University Rating',\n",
       " 'SOP',\n",
       " 'LOR ',\n",
       " 'CGPA',\n",
       " 'Research',\n",
       " 'Chance of Admit ']"
      ]
     },
     "execution_count": 43,
     "metadata": {},
     "output_type": "execute_result"
    }
   ],
   "source": [
    "dataset.columns"
   ]
  },
  {
   "cell_type": "code",
   "execution_count": 44,
   "id": "f3b28049",
   "metadata": {},
   "outputs": [],
   "source": [
    "#Casting to convert string to float.\n",
    "new_data = dataset.select(*(col(c).cast(\"float\").alias(c) for c in dataset.columns))"
   ]
  },
  {
   "cell_type": "code",
   "execution_count": 45,
   "id": "966cb414",
   "metadata": {},
   "outputs": [
    {
     "name": "stdout",
     "output_type": "stream",
     "text": [
      "root\n",
      " |-- GRE Score: float (nullable = true)\n",
      " |-- TOEFL Score: float (nullable = true)\n",
      " |-- University Rating: float (nullable = true)\n",
      " |-- SOP: float (nullable = true)\n",
      " |-- LOR : float (nullable = true)\n",
      " |-- CGPA: float (nullable = true)\n",
      " |-- Research: float (nullable = true)\n",
      " |-- Chance of Admit : float (nullable = true)\n",
      "\n"
     ]
    }
   ],
   "source": [
    "new_data.printSchema() # converted from string to float"
   ]
  },
  {
   "cell_type": "code",
   "execution_count": 46,
   "id": "0452ece5",
   "metadata": {},
   "outputs": [
    {
     "name": "stdout",
     "output_type": "stream",
     "text": [
      "root\n",
      " |-- GRE Score: float (nullable = true)\n",
      " |-- TOEFL Score: float (nullable = true)\n",
      " |-- University Rating: float (nullable = true)\n",
      " |-- SOP: float (nullable = true)\n",
      " |-- LOR : float (nullable = true)\n",
      " |-- CGPA: float (nullable = true)\n",
      " |-- Research: float (nullable = true)\n",
      " |-- Chance of Admit : float (nullable = true)\n",
      "\n"
     ]
    }
   ],
   "source": [
    "new_data.printSchema()"
   ]
  },
  {
   "cell_type": "code",
   "execution_count": 47,
   "id": "76a8bc8e",
   "metadata": {},
   "outputs": [
    {
     "name": "stdout",
     "output_type": "stream",
     "text": [
      "+---------+-----------+-----------------+---+----+----+--------+----------------+\n",
      "|GRE Score|TOEFL Score|University Rating|SOP|LOR |CGPA|Research|Chance of Admit |\n",
      "+---------+-----------+-----------------+---+----+----+--------+----------------+\n",
      "|        0|          0|                0|  0|   0|   0|       0|               0|\n",
      "+---------+-----------+-----------------+---+----+----+--------+----------------+\n",
      "\n"
     ]
    }
   ],
   "source": [
    "new_data.select([count(when(col(c).isNull(), c)).alias(c) for c in new_data.columns]).show()"
   ]
  },
  {
   "cell_type": "markdown",
   "id": "d68e2067",
   "metadata": {},
   "source": [
    "No Null Values to deal so no need for imputer."
   ]
  },
  {
   "cell_type": "code",
   "execution_count": 48,
   "id": "2d6f2515",
   "metadata": {},
   "outputs": [],
   "source": [
    "features = new_data.drop('Chance of Admit ')"
   ]
  },
  {
   "cell_type": "code",
   "execution_count": 49,
   "id": "f2e1248e",
   "metadata": {},
   "outputs": [
    {
     "name": "stdout",
     "output_type": "stream",
     "text": [
      "+---------+-----------+-----------------+---+----+----+--------+\n",
      "|GRE Score|TOEFL Score|University Rating|SOP|LOR |CGPA|Research|\n",
      "+---------+-----------+-----------------+---+----+----+--------+\n",
      "|    337.0|      118.0|              4.0|4.5| 4.5|9.65|     1.0|\n",
      "|    324.0|      107.0|              4.0|4.0| 4.5|8.87|     1.0|\n",
      "|    316.0|      104.0|              3.0|3.0| 3.5| 8.0|     1.0|\n",
      "|    322.0|      110.0|              3.0|3.5| 2.5|8.67|     1.0|\n",
      "|    314.0|      103.0|              2.0|2.0| 3.0|8.21|     0.0|\n",
      "+---------+-----------+-----------------+---+----+----+--------+\n",
      "only showing top 5 rows\n",
      "\n"
     ]
    }
   ],
   "source": [
    "features.show(5)"
   ]
  },
  {
   "cell_type": "code",
   "execution_count": 50,
   "id": "df1a2d44",
   "metadata": {},
   "outputs": [],
   "source": [
    "# Assembling features together with VectorAssemble\n",
    "\n",
    "assembler = VectorAssembler(inputCols=features.columns, outputCol=\"features\")"
   ]
  },
  {
   "cell_type": "code",
   "execution_count": 51,
   "id": "86bdf3db",
   "metadata": {},
   "outputs": [],
   "source": [
    "output = assembler.transform(new_data)"
   ]
  },
  {
   "cell_type": "code",
   "execution_count": 52,
   "id": "67c31921",
   "metadata": {},
   "outputs": [],
   "source": [
    "output = output.select('features', 'Chance of Admit ')"
   ]
  },
  {
   "cell_type": "code",
   "execution_count": 53,
   "id": "941b131f",
   "metadata": {},
   "outputs": [
    {
     "data": {
      "text/plain": [
       "DataFrame[features: vector, Chance of Admit : float]"
      ]
     },
     "execution_count": 53,
     "metadata": {},
     "output_type": "execute_result"
    }
   ],
   "source": [
    "output"
   ]
  },
  {
   "cell_type": "code",
   "execution_count": 54,
   "id": "91a28286",
   "metadata": {},
   "outputs": [],
   "source": [
    "train_df, test_df = output.randomSplit([0.7, 0.3]) # Splitting data into 30:70 ratio for train and test"
   ]
  },
  {
   "cell_type": "code",
   "execution_count": 55,
   "id": "fc852dfd",
   "metadata": {},
   "outputs": [
    {
     "name": "stdout",
     "output_type": "stream",
     "text": [
      "+--------------------+----------------+\n",
      "|            features|Chance of Admit |\n",
      "+--------------------+----------------+\n",
      "|[290.0,104.0,4.0,...|            0.45|\n",
      "|[293.0,97.0,2.0,2...|            0.64|\n",
      "|[294.0,93.0,1.0,1...|            0.46|\n",
      "|[295.0,93.0,1.0,2...|            0.46|\n",
      "|[295.0,96.0,2.0,1...|            0.47|\n",
      "|[295.0,99.0,1.0,2...|            0.37|\n",
      "|[295.0,99.0,2.0,2...|            0.57|\n",
      "|[295.0,101.0,2.0,...|            0.69|\n",
      "|[296.0,95.0,2.0,3...|            0.44|\n",
      "|[296.0,97.0,2.0,1...|            0.49|\n",
      "|[296.0,99.0,2.0,2...|            0.61|\n",
      "|[296.0,99.0,2.0,3...|            0.47|\n",
      "|[297.0,96.0,2.0,2...|            0.43|\n",
      "|[297.0,96.0,2.0,2...|            0.34|\n",
      "|[297.0,98.0,2.0,2...|            0.59|\n",
      "|[297.0,99.0,4.0,3...|            0.54|\n",
      "|[297.0,100.0,1.0,...|            0.52|\n",
      "|[297.0,101.0,3.0,...|            0.57|\n",
      "|[298.0,92.0,1.0,2...|            0.51|\n",
      "|[298.0,97.0,2.0,2...|            0.45|\n",
      "+--------------------+----------------+\n",
      "only showing top 20 rows\n",
      "\n"
     ]
    }
   ],
   "source": [
    "train_df.show()"
   ]
  },
  {
   "cell_type": "code",
   "execution_count": 56,
   "id": "8eaa7f07",
   "metadata": {},
   "outputs": [
    {
     "name": "stdout",
     "output_type": "stream",
     "text": [
      "+--------------------+----------------+\n",
      "|            features|Chance of Admit |\n",
      "+--------------------+----------------+\n",
      "|[290.0,100.0,1.0,...|            0.47|\n",
      "|[294.0,95.0,1.0,1...|            0.49|\n",
      "|[296.0,101.0,1.0,...|             0.6|\n",
      "|[298.0,98.0,2.0,4...|            0.34|\n",
      "|[298.0,99.0,2.0,4...|            0.46|\n",
      "|[298.0,101.0,2.0,...|            0.54|\n",
      "|[299.0,94.0,1.0,1...|            0.42|\n",
      "|[299.0,100.0,2.0,...|            0.51|\n",
      "|[299.0,100.0,3.0,...|            0.63|\n",
      "|[299.0,102.0,3.0,...|            0.56|\n",
      "|[299.0,106.0,2.0,...|            0.64|\n",
      "|[300.0,97.0,2.0,3...|            0.65|\n",
      "|[300.0,99.0,1.0,3...|            0.36|\n",
      "|[301.0,96.0,1.0,3...|            0.54|\n",
      "|[301.0,98.0,1.0,2...|            0.67|\n",
      "|[301.0,99.0,2.0,3...|            0.64|\n",
      "|[301.0,104.0,2.0,...|            0.68|\n",
      "|[301.0,107.0,3.0,...|            0.62|\n",
      "|[302.0,99.0,1.0,2...|            0.57|\n",
      "|[302.0,99.0,2.0,1...|            0.56|\n",
      "+--------------------+----------------+\n",
      "only showing top 20 rows\n",
      "\n"
     ]
    }
   ],
   "source": [
    "test_df.show()"
   ]
  },
  {
   "cell_type": "code",
   "execution_count": 57,
   "id": "0808aac1",
   "metadata": {},
   "outputs": [],
   "source": [
    "lin_reg = LinearRegression(featuresCol= 'features', labelCol='Chance of Admit ')\n",
    "linear_model = lin_reg.fit(train_df)"
   ]
  },
  {
   "cell_type": "code",
   "execution_count": 58,
   "id": "13da162b",
   "metadata": {},
   "outputs": [
    {
     "name": "stdout",
     "output_type": "stream",
     "text": [
      "Coefficients:  [0.0011084437349106852,0.003338467894893564,0.004345385880682187,0.005535324353859607,0.01564562441979079,0.12567956807290276,0.02727877346248619]\n",
      "Intercept:  -1.1654401748903265\n"
     ]
    }
   ],
   "source": [
    "print(\"Coefficients: \" ,(linear_model.coefficients))\n",
    "print(\"Intercept: \" , (linear_model.intercept))"
   ]
  },
  {
   "cell_type": "code",
   "execution_count": 59,
   "id": "f2b18cc4",
   "metadata": {},
   "outputs": [
    {
     "name": "stdout",
     "output_type": "stream",
     "text": [
      "RMSE: 0.059540\n",
      "r2: 0.826545\n"
     ]
    }
   ],
   "source": [
    "trainsummary = linear_model.summary\n",
    "print('RMSE: %f' % trainsummary.rootMeanSquaredError)\n",
    "print(\"r2: %f\" % trainsummary.r2)"
   ]
  },
  {
   "cell_type": "code",
   "execution_count": 60,
   "id": "11a57683",
   "metadata": {},
   "outputs": [
    {
     "name": "stdout",
     "output_type": "stream",
     "text": [
      "+-------------------+----------------+--------------------+\n",
      "|         prediction|Chance of Admit |            features|\n",
      "+-------------------+----------------+--------------------+\n",
      "|0.48393244641388433|            0.47|[290.0,100.0,1.0,...|\n",
      "| 0.4739054255264059|            0.49|[294.0,95.0,1.0,1...|\n",
      "| 0.5301840592777554|             0.6|[296.0,101.0,1.0,...|\n",
      "| 0.5790217523141461|            0.34|[298.0,98.0,2.0,4...|\n",
      "| 0.5126724030922283|            0.46|[298.0,99.0,2.0,4...|\n",
      "| 0.5381877444620913|            0.54|[298.0,101.0,2.0,...|\n",
      "| 0.4278148674545825|            0.42|[299.0,94.0,1.0,1...|\n",
      "| 0.5412389714433488|            0.51|[299.0,100.0,2.0,...|\n",
      "| 0.5631795400028929|            0.63|[299.0,100.0,3.0,...|\n",
      "| 0.6798032300594015|            0.56|[299.0,102.0,3.0,...|\n",
      "| 0.6689849894320847|            0.64|[299.0,106.0,2.0,...|\n",
      "| 0.6084412722658195|            0.65|[300.0,97.0,2.0,3...|\n",
      "|0.43174373528888466|            0.36|[300.0,99.0,1.0,3...|\n",
      "| 0.5223656912886985|            0.54|[301.0,96.0,1.0,3...|\n",
      "|  0.594209822392963|            0.67|[301.0,98.0,1.0,2...|\n",
      "| 0.5883837876941036|            0.64|[301.0,99.0,2.0,3...|\n",
      "| 0.6171166916335176|            0.68|[301.0,104.0,2.0,...|\n",
      "| 0.6880333227888997|            0.62|[301.0,107.0,3.0,...|\n",
      "| 0.4577023066036914|            0.57|[302.0,99.0,1.0,2...|\n",
      "|  0.547001630774381|            0.56|[302.0,99.0,2.0,1...|\n",
      "+-------------------+----------------+--------------------+\n",
      "only showing top 20 rows\n",
      "\n"
     ]
    }
   ],
   "source": [
    "# Predictions:\n",
    "\n",
    "prediction = linear_model.transform(test_df)\n",
    "prediction.select('prediction', 'Chance of Admit ', 'features').show()"
   ]
  },
  {
   "cell_type": "code",
   "execution_count": 61,
   "id": "c5120704",
   "metadata": {},
   "outputs": [
    {
     "name": "stdout",
     "output_type": "stream",
     "text": [
      "R Squared (R2) on test data = 0.80444\n"
     ]
    }
   ],
   "source": [
    "from pyspark.ml.evaluation import RegressionEvaluator\n",
    "pred_evaluator = RegressionEvaluator(predictionCol='prediction', labelCol='Chance of Admit ', metricName='r2')\n",
    "\n",
    "print('R Squared (R2) on test data = %g' % pred_evaluator.evaluate(prediction))\n"
   ]
  },
  {
   "cell_type": "code",
   "execution_count": 33,
   "id": "0788f951",
   "metadata": {},
   "outputs": [],
   "source": [
    "spark.stop()"
   ]
  },
  {
   "cell_type": "code",
   "execution_count": null,
   "id": "d58724f4",
   "metadata": {},
   "outputs": [],
   "source": []
  }
 ],
 "metadata": {
  "kernelspec": {
   "display_name": "Python 3 (ipykernel)",
   "language": "python",
   "name": "python3"
  },
  "language_info": {
   "codemirror_mode": {
    "name": "ipython",
    "version": 3
   },
   "file_extension": ".py",
   "mimetype": "text/x-python",
   "name": "python",
   "nbconvert_exporter": "python",
   "pygments_lexer": "ipython3",
   "version": "3.9.7"
  }
 },
 "nbformat": 4,
 "nbformat_minor": 5
}
